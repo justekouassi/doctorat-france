{
 "cells": [
  {
   "attachments": {},
   "cell_type": "markdown",
   "metadata": {},
   "source": [
    "# Insertion professionnelle des docteurs en France"
   ]
  },
  {
   "attachments": {},
   "cell_type": "markdown",
   "metadata": {},
   "source": [
    "## 0. Préalable"
   ]
  },
  {
   "attachments": {},
   "cell_type": "markdown",
   "metadata": {},
   "source": [
    "Importation des modules"
   ]
  },
  {
   "cell_type": "code",
   "execution_count": null,
   "metadata": {},
   "outputs": [],
   "source": [
    "import numpy as np\n",
    "import pandas as pd\n",
    "import matplotlib.pyplot as plt\n",
    "import seaborn as sns"
   ]
  },
  {
   "attachments": {},
   "cell_type": "markdown",
   "metadata": {},
   "source": [
    "Chargement du jeu de données"
   ]
  },
  {
   "cell_type": "code",
   "execution_count": null,
   "metadata": {},
   "outputs": [],
   "source": [
    "doctorat_0 = pd.read_csv('fr-esr-insertion-professionnelle-des-diplomes-doctorat-par-etablissement.csv', delimiter=';')"
   ]
  },
  {
   "cell_type": "code",
   "execution_count": 36,
   "metadata": {},
   "outputs": [],
   "source": [
    "# on réalise une copie de notre dataset pour ne pas l'altérer durant notre étude\n",
    "doctorat = doctorat_0.copy()"
   ]
  },
  {
   "attachments": {},
   "cell_type": "markdown",
   "metadata": {},
   "source": [
    "Bref aperçu du contenu du dataset"
   ]
  },
  {
   "cell_type": "code",
   "execution_count": null,
   "metadata": {},
   "outputs": [],
   "source": [
    "doctorat.sample(3) # visualisons un échantillon de 3 enregistrements aléatoires de notre dataset"
   ]
  },
  {
   "attachments": {},
   "cell_type": "markdown",
   "metadata": {},
   "source": [
    "## 1. Exploratory Data Analysis (EDA)"
   ]
  },
  {
   "attachments": {},
   "cell_type": "markdown",
   "metadata": {},
   "source": [
    "### 1.1. Analyse de forme"
   ]
  },
  {
   "attachments": {},
   "cell_type": "markdown",
   "metadata": {},
   "source": [
    "Dimension du dataset"
   ]
  },
  {
   "cell_type": "code",
   "execution_count": 37,
   "metadata": {},
   "outputs": [
    {
     "data": {
      "text/plain": [
       "(450, 29)"
      ]
     },
     "execution_count": 37,
     "metadata": {},
     "output_type": "execute_result"
    }
   ],
   "source": [
    "doctorat.shape # dimension du dataset (nombre de lignes, nombre de colonnes)"
   ]
  },
  {
   "attachments": {},
   "cell_type": "markdown",
   "metadata": {},
   "source": [
    "Analyse du type de chaque variable"
   ]
  },
  {
   "cell_type": "code",
   "execution_count": null,
   "metadata": {},
   "outputs": [],
   "source": [
    "doctorat.dtypes # retourne le type de chaque variable"
   ]
  },
  {
   "attachments": {},
   "cell_type": "markdown",
   "metadata": {},
   "source": [
    "**Remarque** : Certaines variables quantitatives sont de type object car elles contiennent des valeurs 'ns'(non significatif) et 'nd'(non disponible). Transformons ces valeurs en NaN."
   ]
  },
  {
   "cell_type": "code",
   "execution_count": 38,
   "metadata": {},
   "outputs": [],
   "source": [
    "for colonne in doctorat.columns:\n",
    "\tdoctorat[colonne].replace(['nd', 'ns'], [np.nan, np.nan], inplace=True)"
   ]
  },
  {
   "attachments": {},
   "cell_type": "markdown",
   "metadata": {},
   "source": [
    "Puis nous pouvons caster ces variables en type float."
   ]
  },
  {
   "cell_type": "code",
   "execution_count": 39,
   "metadata": {},
   "outputs": [
    {
     "data": {
      "text/plain": [
       "annee                                                                 float64\n",
       "diplome                                                                object\n",
       "situation                                                              object\n",
       "remarque                                                               object\n",
       "disca                                                                  object\n",
       "part_femmes                                                           float64\n",
       "age_moyen_a_la_soutenance                                             float64\n",
       "part_docteurs_etrangers                                               float64\n",
       "eff_rep                                                               float64\n",
       "taux_rep                                                              float64\n",
       "part_docteurs_declarant_avoir_ete_finances_pour_realiser_la_these     float64\n",
       "taux_insertion                                                        float64\n",
       "part_stable                                                           float64\n",
       "part_cadre                                                            float64\n",
       "part_temps_plein                                                      float64\n",
       "part_secteur_academique                                               float64\n",
       "part_public_hors_secteur_academique                                   float64\n",
       "part_r_d_privee                                                       float64\n",
       "part_privee_hors_secteur_academique_et_r_d                            float64\n",
       "part_docteurs_en_emploi_a_l_etranger                                  float64\n",
       "part_docteurs_en_emploi_dans_la_meme_region_que_leur_etablissement    float64\n",
       "sal_net_q1_mensuel                                                    float64\n",
       "sal_net_med_mensuel                                                   float64\n",
       "sal_net_q3_mensuel                                                    float64\n",
       "sal_brut_med_annuel                                                   float64\n",
       "lib_etablissement_2014                                                 object\n",
       "numero_uai_ori                                                         object\n",
       "lib_etablissement_2020                                                 object\n",
       "numero_uai_2020                                                        object\n",
       "dtype: object"
      ]
     },
     "execution_count": 39,
     "metadata": {},
     "output_type": "execute_result"
    }
   ],
   "source": [
    "for index, colonne in enumerate(doctorat.columns):\n",
    "\ttry:\n",
    "\t\tdoctorat[colonne] = doctorat[colonne].astype(float)\n",
    "\texcept ValueError:\n",
    "\t\tindex += 1\n",
    "doctorat.dtypes"
   ]
  },
  {
   "cell_type": "code",
   "execution_count": 40,
   "metadata": {},
   "outputs": [
    {
     "data": {
      "text/plain": [
       "float64    21\n",
       "object      8\n",
       "dtype: int64"
      ]
     },
     "execution_count": 40,
     "metadata": {},
     "output_type": "execute_result"
    }
   ],
   "source": [
    "doctorat.dtypes.value_counts()"
   ]
  },
  {
   "attachments": {},
   "cell_type": "markdown",
   "metadata": {},
   "source": [
    "Analyse des valeurs manquantes"
   ]
  },
  {
   "cell_type": "code",
   "execution_count": null,
   "metadata": {},
   "outputs": [],
   "source": [
    "plt.figure(figsize=(20,10))\n",
    "sns.heatmap(doctorat.isna(), cbar=False)"
   ]
  },
  {
   "cell_type": "code",
   "execution_count": 41,
   "metadata": {},
   "outputs": [
    {
     "data": {
      "text/plain": [
       "annee                                                                  0.000000\n",
       "numero_uai_ori                                                         0.000000\n",
       "lib_etablissement_2014                                                 0.000000\n",
       "lib_etablissement_2020                                                 0.000000\n",
       "taux_rep                                                               0.000000\n",
       "eff_rep                                                                0.000000\n",
       "numero_uai_2020                                                        0.000000\n",
       "disca                                                                  0.000000\n",
       "diplome                                                                0.000000\n",
       "situation                                                              0.000000\n",
       "remarque                                                               7.555556\n",
       "part_femmes                                                           14.222222\n",
       "part_docteurs_etrangers                                               15.111111\n",
       "age_moyen_a_la_soutenance                                             15.111111\n",
       "sal_brut_med_annuel                                                   44.444444\n",
       "sal_net_q3_mensuel                                                    44.444444\n",
       "sal_net_med_mensuel                                                   44.444444\n",
       "sal_net_q1_mensuel                                                    44.444444\n",
       "part_docteurs_en_emploi_a_l_etranger                                  44.444444\n",
       "part_r_d_privee                                                       44.444444\n",
       "part_public_hors_secteur_academique                                   44.444444\n",
       "part_secteur_academique                                               44.444444\n",
       "part_cadre                                                            44.444444\n",
       "part_stable                                                           44.444444\n",
       "taux_insertion                                                        44.444444\n",
       "part_docteurs_declarant_avoir_ete_finances_pour_realiser_la_these     44.444444\n",
       "part_privee_hors_secteur_academique_et_r_d                            44.444444\n",
       "part_temps_plein                                                      44.444444\n",
       "part_docteurs_en_emploi_dans_la_meme_region_que_leur_etablissement    72.222222\n",
       "dtype: float64"
      ]
     },
     "execution_count": 41,
     "metadata": {},
     "output_type": "execute_result"
    }
   ],
   "source": [
    "# doctorat.isna().sum()\n",
    "(doctorat.isna().sum() * 100 / doctorat.shape[0]).sort_values()"
   ]
  },
  {
   "attachments": {},
   "cell_type": "markdown",
   "metadata": {},
   "source": [
    "> Résumé de l'analyse de forme\n",
    "\n",
    "1. **Variable target :** taux_insertion\n",
    "2. **Dimension du dataset :** (450, 29)\n",
    "3. **Types des variables :** 8 qualitatives et 21 quantitatives\n",
    "4. **Identification des valeurs manquantes :** \n",
    "- assez de Nan\n",
    "- Les variables quantitatives contiennent généralement 44% de valeurs manquantes\n",
    "- Les variables qualitatives sont quasiment toutes complètes\n",
    "- Seule la variable 'part_docteurs_en_emploi_dans_la_meme_region_que_leur_etablissement' contient plus de 70% de valeurs manquantes"
   ]
  },
  {
   "attachments": {},
   "cell_type": "markdown",
   "metadata": {},
   "source": [
    "- Les variables 'annee' et 'diplome' ne varient pas. On a respectivement annee = 2014 et diplome = DOCTORAT. Ces variables vont donc être supprimées plus tard.\n",
    "- Les variables 'numero_uai_ori' et 'numero_uai_2020' contiennent des valeurs uniques. A enlever aussi"
   ]
  },
  {
   "attachments": {},
   "cell_type": "markdown",
   "metadata": {},
   "source": [
    "### 1.2. Analyse de fond"
   ]
  },
  {
   "attachments": {},
   "cell_type": "markdown",
   "metadata": {},
   "source": [
    "Elimination des colonnes inutiles"
   ]
  },
  {
   "cell_type": "code",
   "execution_count": 42,
   "metadata": {},
   "outputs": [],
   "source": [
    "doctorat.drop(['annee', 'diplome', 'numero_uai_ori', 'numero_uai_2020'], axis=1, inplace=True) # suppression des variables contantes et à valeurs uniques"
   ]
  },
  {
   "attachments": {},
   "cell_type": "markdown",
   "metadata": {},
   "source": [
    "Elimination des lignes inutiles"
   ]
  },
  {
   "attachments": {},
   "cell_type": "markdown",
   "metadata": {},
   "source": [
    "Certains enregistrements ne contiennent pas le taux d'insertion. Or il s'agit là de la variable principale à analyser (la target). Nous allons donc les supprimer."
   ]
  },
  {
   "cell_type": "code",
   "execution_count": 108,
   "metadata": {},
   "outputs": [],
   "source": [
    "doctorat.dropna(subset=['taux_insertion'], inplace=True) # suppression des lignes ne contenant pas le taux d'insertion professionnelle"
   ]
  },
  {
   "cell_type": "code",
   "execution_count": 109,
   "metadata": {},
   "outputs": [
    {
     "name": "stdout",
     "output_type": "stream",
     "text": [
      "<class 'pandas.core.frame.DataFrame'>\n",
      "Int64Index: 250 entries, 0 to 446\n",
      "Data columns (total 25 columns):\n",
      " #   Column                                                              Non-Null Count  Dtype  \n",
      "---  ------                                                              --------------  -----  \n",
      " 0   situation                                                           250 non-null    object \n",
      " 1   remarque                                                            216 non-null    object \n",
      " 2   disca                                                               250 non-null    object \n",
      " 3   part_femmes                                                         250 non-null    float64\n",
      " 4   age_moyen_a_la_soutenance                                           248 non-null    float64\n",
      " 5   part_docteurs_etrangers                                             248 non-null    float64\n",
      " 6   eff_rep                                                             250 non-null    float64\n",
      " 7   taux_rep                                                            250 non-null    float64\n",
      " 8   part_docteurs_declarant_avoir_ete_finances_pour_realiser_la_these   250 non-null    float64\n",
      " 9   taux_insertion                                                      250 non-null    float64\n",
      " 10  part_stable                                                         250 non-null    float64\n",
      " 11  part_cadre                                                          250 non-null    float64\n",
      " 12  part_temps_plein                                                    250 non-null    float64\n",
      " 13  part_secteur_academique                                             250 non-null    float64\n",
      " 14  part_public_hors_secteur_academique                                 250 non-null    float64\n",
      " 15  part_r_d_privee                                                     250 non-null    float64\n",
      " 16  part_privee_hors_secteur_academique_et_r_d                          250 non-null    float64\n",
      " 17  part_docteurs_en_emploi_a_l_etranger                                250 non-null    float64\n",
      " 18  part_docteurs_en_emploi_dans_la_meme_region_que_leur_etablissement  125 non-null    float64\n",
      " 19  sal_net_q1_mensuel                                                  250 non-null    float64\n",
      " 20  sal_net_med_mensuel                                                 250 non-null    float64\n",
      " 21  sal_net_q3_mensuel                                                  250 non-null    float64\n",
      " 22  sal_brut_med_annuel                                                 250 non-null    float64\n",
      " 23  lib_etablissement_2014                                              250 non-null    object \n",
      " 24  lib_etablissement_2020                                              250 non-null    object \n",
      "dtypes: float64(20), object(5)\n",
      "memory usage: 50.8+ KB\n"
     ]
    }
   ],
   "source": [
    "doctorat.info()"
   ]
  },
  {
   "attachments": {},
   "cell_type": "markdown",
   "metadata": {},
   "source": [
    "Visualisation de la target"
   ]
  },
  {
   "cell_type": "code",
   "execution_count": 110,
   "metadata": {},
   "outputs": [
    {
     "data": {
      "text/plain": [
       "60.0      1\n",
       "73.0      1\n",
       "69.0      1\n",
       "64.0      1\n",
       "67.0      1\n",
       "61.0      1\n",
       "66.0      1\n",
       "72.0      2\n",
       "75.0      2\n",
       "98.0      2\n",
       "76.0      3\n",
       "79.0      3\n",
       "96.0      6\n",
       "86.0      6\n",
       "74.0      7\n",
       "77.0      7\n",
       "81.0      7\n",
       "82.0      8\n",
       "78.0      8\n",
       "80.0      9\n",
       "89.0     10\n",
       "92.0     10\n",
       "97.0     10\n",
       "94.0     11\n",
       "83.0     11\n",
       "90.0     11\n",
       "95.0     11\n",
       "84.0     12\n",
       "87.0     12\n",
       "85.0     13\n",
       "93.0     14\n",
       "91.0     14\n",
       "88.0     15\n",
       "100.0    19\n",
       "Name: taux_insertion, dtype: int64"
      ]
     },
     "execution_count": 110,
     "metadata": {},
     "output_type": "execute_result"
    }
   ],
   "source": [
    "# doctorat['taux_insertion'].value_counts()\n",
    "doctorat['taux_insertion'].value_counts().sort_values()"
   ]
  },
  {
   "cell_type": "markdown",
   "metadata": {},
   "source": [
    "Analyse des variables quantitatives "
   ]
  },
  {
   "cell_type": "code",
   "execution_count": 111,
   "metadata": {},
   "outputs": [
    {
     "data": {
      "text/html": [
       "<div>\n",
       "<style scoped>\n",
       "    .dataframe tbody tr th:only-of-type {\n",
       "        vertical-align: middle;\n",
       "    }\n",
       "\n",
       "    .dataframe tbody tr th {\n",
       "        vertical-align: top;\n",
       "    }\n",
       "\n",
       "    .dataframe thead th {\n",
       "        text-align: right;\n",
       "    }\n",
       "</style>\n",
       "<table border=\"1\" class=\"dataframe\">\n",
       "  <thead>\n",
       "    <tr style=\"text-align: right;\">\n",
       "      <th></th>\n",
       "      <th>part_femmes</th>\n",
       "      <th>age_moyen_a_la_soutenance</th>\n",
       "      <th>part_docteurs_etrangers</th>\n",
       "      <th>eff_rep</th>\n",
       "      <th>taux_rep</th>\n",
       "      <th>part_docteurs_declarant_avoir_ete_finances_pour_realiser_la_these</th>\n",
       "      <th>taux_insertion</th>\n",
       "      <th>part_stable</th>\n",
       "      <th>part_cadre</th>\n",
       "      <th>part_temps_plein</th>\n",
       "      <th>part_secteur_academique</th>\n",
       "      <th>part_public_hors_secteur_academique</th>\n",
       "      <th>part_r_d_privee</th>\n",
       "      <th>part_privee_hors_secteur_academique_et_r_d</th>\n",
       "      <th>part_docteurs_en_emploi_a_l_etranger</th>\n",
       "      <th>part_docteurs_en_emploi_dans_la_meme_region_que_leur_etablissement</th>\n",
       "      <th>sal_net_q1_mensuel</th>\n",
       "      <th>sal_net_med_mensuel</th>\n",
       "      <th>sal_net_q3_mensuel</th>\n",
       "      <th>sal_brut_med_annuel</th>\n",
       "    </tr>\n",
       "  </thead>\n",
       "  <tbody>\n",
       "    <tr>\n",
       "      <th>count</th>\n",
       "      <td>250.000000</td>\n",
       "      <td>248.000000</td>\n",
       "      <td>248.000000</td>\n",
       "      <td>250.000000</td>\n",
       "      <td>250.00000</td>\n",
       "      <td>250.000000</td>\n",
       "      <td>250.000000</td>\n",
       "      <td>250.000000</td>\n",
       "      <td>250.000000</td>\n",
       "      <td>250.000000</td>\n",
       "      <td>250.000000</td>\n",
       "      <td>250.000000</td>\n",
       "      <td>250.000000</td>\n",
       "      <td>250.000000</td>\n",
       "      <td>250.000000</td>\n",
       "      <td>125.000000</td>\n",
       "      <td>250.00000</td>\n",
       "      <td>250.000000</td>\n",
       "      <td>250.000000</td>\n",
       "      <td>250.000000</td>\n",
       "    </tr>\n",
       "    <tr>\n",
       "      <th>mean</th>\n",
       "      <td>43.272000</td>\n",
       "      <td>31.596774</td>\n",
       "      <td>40.104839</td>\n",
       "      <td>49.440000</td>\n",
       "      <td>63.68800</td>\n",
       "      <td>74.696000</td>\n",
       "      <td>87.384000</td>\n",
       "      <td>58.764000</td>\n",
       "      <td>91.780000</td>\n",
       "      <td>92.820000</td>\n",
       "      <td>50.004000</td>\n",
       "      <td>20.448000</td>\n",
       "      <td>13.440000</td>\n",
       "      <td>16.116000</td>\n",
       "      <td>32.532000</td>\n",
       "      <td>30.648000</td>\n",
       "      <td>1900.11200</td>\n",
       "      <td>2201.932000</td>\n",
       "      <td>2657.696000</td>\n",
       "      <td>32394.448000</td>\n",
       "    </tr>\n",
       "    <tr>\n",
       "      <th>std</th>\n",
       "      <td>14.425756</td>\n",
       "      <td>2.973348</td>\n",
       "      <td>12.647074</td>\n",
       "      <td>51.079967</td>\n",
       "      <td>10.76318</td>\n",
       "      <td>19.450369</td>\n",
       "      <td>7.923108</td>\n",
       "      <td>14.703096</td>\n",
       "      <td>7.542889</td>\n",
       "      <td>7.329015</td>\n",
       "      <td>13.118398</td>\n",
       "      <td>14.688168</td>\n",
       "      <td>12.210602</td>\n",
       "      <td>8.188942</td>\n",
       "      <td>12.134826</td>\n",
       "      <td>17.106995</td>\n",
       "      <td>247.10207</td>\n",
       "      <td>280.949236</td>\n",
       "      <td>526.688354</td>\n",
       "      <td>4743.088629</td>\n",
       "    </tr>\n",
       "    <tr>\n",
       "      <th>min</th>\n",
       "      <td>11.000000</td>\n",
       "      <td>28.000000</td>\n",
       "      <td>9.000000</td>\n",
       "      <td>11.000000</td>\n",
       "      <td>32.00000</td>\n",
       "      <td>22.000000</td>\n",
       "      <td>60.000000</td>\n",
       "      <td>17.000000</td>\n",
       "      <td>64.000000</td>\n",
       "      <td>66.000000</td>\n",
       "      <td>7.000000</td>\n",
       "      <td>0.000000</td>\n",
       "      <td>0.000000</td>\n",
       "      <td>0.000000</td>\n",
       "      <td>6.000000</td>\n",
       "      <td>0.000000</td>\n",
       "      <td>1244.00000</td>\n",
       "      <td>1488.000000</td>\n",
       "      <td>1659.000000</td>\n",
       "      <td>21000.000000</td>\n",
       "    </tr>\n",
       "    <tr>\n",
       "      <th>25%</th>\n",
       "      <td>31.000000</td>\n",
       "      <td>29.000000</td>\n",
       "      <td>32.750000</td>\n",
       "      <td>21.000000</td>\n",
       "      <td>57.00000</td>\n",
       "      <td>60.000000</td>\n",
       "      <td>82.250000</td>\n",
       "      <td>48.250000</td>\n",
       "      <td>88.000000</td>\n",
       "      <td>89.000000</td>\n",
       "      <td>41.000000</td>\n",
       "      <td>10.000000</td>\n",
       "      <td>3.000000</td>\n",
       "      <td>11.000000</td>\n",
       "      <td>25.000000</td>\n",
       "      <td>20.000000</td>\n",
       "      <td>1722.50000</td>\n",
       "      <td>2049.750000</td>\n",
       "      <td>2330.750000</td>\n",
       "      <td>29280.000000</td>\n",
       "    </tr>\n",
       "    <tr>\n",
       "      <th>50%</th>\n",
       "      <td>45.000000</td>\n",
       "      <td>30.000000</td>\n",
       "      <td>40.000000</td>\n",
       "      <td>33.000000</td>\n",
       "      <td>62.00000</td>\n",
       "      <td>82.000000</td>\n",
       "      <td>88.000000</td>\n",
       "      <td>59.000000</td>\n",
       "      <td>93.500000</td>\n",
       "      <td>95.000000</td>\n",
       "      <td>50.000000</td>\n",
       "      <td>16.000000</td>\n",
       "      <td>11.000000</td>\n",
       "      <td>16.000000</td>\n",
       "      <td>32.000000</td>\n",
       "      <td>32.000000</td>\n",
       "      <td>1920.50000</td>\n",
       "      <td>2195.000000</td>\n",
       "      <td>2550.000000</td>\n",
       "      <td>32000.000000</td>\n",
       "    </tr>\n",
       "    <tr>\n",
       "      <th>75%</th>\n",
       "      <td>55.000000</td>\n",
       "      <td>34.000000</td>\n",
       "      <td>49.000000</td>\n",
       "      <td>52.000000</td>\n",
       "      <td>70.00000</td>\n",
       "      <td>90.000000</td>\n",
       "      <td>93.000000</td>\n",
       "      <td>69.000000</td>\n",
       "      <td>97.000000</td>\n",
       "      <td>100.000000</td>\n",
       "      <td>59.000000</td>\n",
       "      <td>29.000000</td>\n",
       "      <td>21.000000</td>\n",
       "      <td>21.000000</td>\n",
       "      <td>41.000000</td>\n",
       "      <td>42.000000</td>\n",
       "      <td>2074.00000</td>\n",
       "      <td>2373.000000</td>\n",
       "      <td>2833.000000</td>\n",
       "      <td>35267.750000</td>\n",
       "    </tr>\n",
       "    <tr>\n",
       "      <th>max</th>\n",
       "      <td>72.000000</td>\n",
       "      <td>39.000000</td>\n",
       "      <td>68.000000</td>\n",
       "      <td>320.000000</td>\n",
       "      <td>100.00000</td>\n",
       "      <td>100.000000</td>\n",
       "      <td>100.000000</td>\n",
       "      <td>91.000000</td>\n",
       "      <td>100.000000</td>\n",
       "      <td>100.000000</td>\n",
       "      <td>83.000000</td>\n",
       "      <td>83.000000</td>\n",
       "      <td>62.000000</td>\n",
       "      <td>46.000000</td>\n",
       "      <td>75.000000</td>\n",
       "      <td>77.000000</td>\n",
       "      <td>2625.00000</td>\n",
       "      <td>3125.000000</td>\n",
       "      <td>4958.000000</td>\n",
       "      <td>50000.000000</td>\n",
       "    </tr>\n",
       "  </tbody>\n",
       "</table>\n",
       "</div>"
      ],
      "text/plain": [
       "       part_femmes  age_moyen_a_la_soutenance  part_docteurs_etrangers  \\\n",
       "count   250.000000                 248.000000               248.000000   \n",
       "mean     43.272000                  31.596774                40.104839   \n",
       "std      14.425756                   2.973348                12.647074   \n",
       "min      11.000000                  28.000000                 9.000000   \n",
       "25%      31.000000                  29.000000                32.750000   \n",
       "50%      45.000000                  30.000000                40.000000   \n",
       "75%      55.000000                  34.000000                49.000000   \n",
       "max      72.000000                  39.000000                68.000000   \n",
       "\n",
       "          eff_rep   taux_rep  \\\n",
       "count  250.000000  250.00000   \n",
       "mean    49.440000   63.68800   \n",
       "std     51.079967   10.76318   \n",
       "min     11.000000   32.00000   \n",
       "25%     21.000000   57.00000   \n",
       "50%     33.000000   62.00000   \n",
       "75%     52.000000   70.00000   \n",
       "max    320.000000  100.00000   \n",
       "\n",
       "       part_docteurs_declarant_avoir_ete_finances_pour_realiser_la_these  \\\n",
       "count                                         250.000000                   \n",
       "mean                                           74.696000                   \n",
       "std                                            19.450369                   \n",
       "min                                            22.000000                   \n",
       "25%                                            60.000000                   \n",
       "50%                                            82.000000                   \n",
       "75%                                            90.000000                   \n",
       "max                                           100.000000                   \n",
       "\n",
       "       taux_insertion  part_stable  part_cadre  part_temps_plein  \\\n",
       "count      250.000000   250.000000  250.000000        250.000000   \n",
       "mean        87.384000    58.764000   91.780000         92.820000   \n",
       "std          7.923108    14.703096    7.542889          7.329015   \n",
       "min         60.000000    17.000000   64.000000         66.000000   \n",
       "25%         82.250000    48.250000   88.000000         89.000000   \n",
       "50%         88.000000    59.000000   93.500000         95.000000   \n",
       "75%         93.000000    69.000000   97.000000        100.000000   \n",
       "max        100.000000    91.000000  100.000000        100.000000   \n",
       "\n",
       "       part_secteur_academique  part_public_hors_secteur_academique  \\\n",
       "count               250.000000                           250.000000   \n",
       "mean                 50.004000                            20.448000   \n",
       "std                  13.118398                            14.688168   \n",
       "min                   7.000000                             0.000000   \n",
       "25%                  41.000000                            10.000000   \n",
       "50%                  50.000000                            16.000000   \n",
       "75%                  59.000000                            29.000000   \n",
       "max                  83.000000                            83.000000   \n",
       "\n",
       "       part_r_d_privee  part_privee_hors_secteur_academique_et_r_d  \\\n",
       "count       250.000000                                  250.000000   \n",
       "mean         13.440000                                   16.116000   \n",
       "std          12.210602                                    8.188942   \n",
       "min           0.000000                                    0.000000   \n",
       "25%           3.000000                                   11.000000   \n",
       "50%          11.000000                                   16.000000   \n",
       "75%          21.000000                                   21.000000   \n",
       "max          62.000000                                   46.000000   \n",
       "\n",
       "       part_docteurs_en_emploi_a_l_etranger  \\\n",
       "count                            250.000000   \n",
       "mean                              32.532000   \n",
       "std                               12.134826   \n",
       "min                                6.000000   \n",
       "25%                               25.000000   \n",
       "50%                               32.000000   \n",
       "75%                               41.000000   \n",
       "max                               75.000000   \n",
       "\n",
       "       part_docteurs_en_emploi_dans_la_meme_region_que_leur_etablissement  \\\n",
       "count                                         125.000000                    \n",
       "mean                                           30.648000                    \n",
       "std                                            17.106995                    \n",
       "min                                             0.000000                    \n",
       "25%                                            20.000000                    \n",
       "50%                                            32.000000                    \n",
       "75%                                            42.000000                    \n",
       "max                                            77.000000                    \n",
       "\n",
       "       sal_net_q1_mensuel  sal_net_med_mensuel  sal_net_q3_mensuel  \\\n",
       "count           250.00000           250.000000          250.000000   \n",
       "mean           1900.11200          2201.932000         2657.696000   \n",
       "std             247.10207           280.949236          526.688354   \n",
       "min            1244.00000          1488.000000         1659.000000   \n",
       "25%            1722.50000          2049.750000         2330.750000   \n",
       "50%            1920.50000          2195.000000         2550.000000   \n",
       "75%            2074.00000          2373.000000         2833.000000   \n",
       "max            2625.00000          3125.000000         4958.000000   \n",
       "\n",
       "       sal_brut_med_annuel  \n",
       "count           250.000000  \n",
       "mean          32394.448000  \n",
       "std            4743.088629  \n",
       "min           21000.000000  \n",
       "25%           29280.000000  \n",
       "50%           32000.000000  \n",
       "75%           35267.750000  \n",
       "max           50000.000000  "
      ]
     },
     "execution_count": 111,
     "metadata": {},
     "output_type": "execute_result"
    }
   ],
   "source": [
    "doctorat.select_dtypes(include='number').describe()"
   ]
  },
  {
   "attachments": {},
   "cell_type": "markdown",
   "metadata": {},
   "source": [
    "Histogramme des variables quantitatives"
   ]
  },
  {
   "cell_type": "code",
   "execution_count": null,
   "metadata": {},
   "outputs": [],
   "source": [
    "# visualisation des variables flottantes\n",
    "for colonne in doctorat.select_dtypes('float'):\n",
    "\tplt.figure()\n",
    "\tsns.distplot(doctorat[colonne])"
   ]
  },
  {
   "cell_type": "markdown",
   "metadata": {},
   "source": [
    "Analyse des variables qualitatives"
   ]
  },
  {
   "cell_type": "code",
   "execution_count": null,
   "metadata": {},
   "outputs": [
    {
     "data": {
      "text/html": [
       "<div>\n",
       "<style scoped>\n",
       "    .dataframe tbody tr th:only-of-type {\n",
       "        vertical-align: middle;\n",
       "    }\n",
       "\n",
       "    .dataframe tbody tr th {\n",
       "        vertical-align: top;\n",
       "    }\n",
       "\n",
       "    .dataframe thead th {\n",
       "        text-align: right;\n",
       "    }\n",
       "</style>\n",
       "<table border=\"1\" class=\"dataframe\">\n",
       "  <thead>\n",
       "    <tr style=\"text-align: right;\">\n",
       "      <th></th>\n",
       "      <th>situation</th>\n",
       "      <th>remarque</th>\n",
       "      <th>disca</th>\n",
       "      <th>lib_etablissement_2014</th>\n",
       "      <th>lib_etablissement_2020</th>\n",
       "    </tr>\n",
       "  </thead>\n",
       "  <tbody>\n",
       "    <tr>\n",
       "      <th>count</th>\n",
       "      <td>450</td>\n",
       "      <td>416</td>\n",
       "      <td>450</td>\n",
       "      <td>450</td>\n",
       "      <td>450</td>\n",
       "    </tr>\n",
       "    <tr>\n",
       "      <th>unique</th>\n",
       "      <td>2</td>\n",
       "      <td>2</td>\n",
       "      <td>4</td>\n",
       "      <td>103</td>\n",
       "      <td>99</td>\n",
       "    </tr>\n",
       "    <tr>\n",
       "      <th>top</th>\n",
       "      <td>36 mois après le diplôme</td>\n",
       "      <td>Etablissement ayant participé à  l'enquéte mai...</td>\n",
       "      <td>Sciences et leurs interactions</td>\n",
       "      <td>NICE (fermé)</td>\n",
       "      <td>UNIVERSITE DE LILLE</td>\n",
       "    </tr>\n",
       "    <tr>\n",
       "      <th>freq</th>\n",
       "      <td>225</td>\n",
       "      <td>216</td>\n",
       "      <td>162</td>\n",
       "      <td>8</td>\n",
       "      <td>16</td>\n",
       "    </tr>\n",
       "  </tbody>\n",
       "</table>\n",
       "</div>"
      ],
      "text/plain": [
       "                       situation  \\\n",
       "count                        450   \n",
       "unique                         2   \n",
       "top     36 mois après le diplôme   \n",
       "freq                         225   \n",
       "\n",
       "                                                 remarque  \\\n",
       "count                                                 416   \n",
       "unique                                                  2   \n",
       "top     Etablissement ayant participé à  l'enquéte mai...   \n",
       "freq                                                  216   \n",
       "\n",
       "                                 disca lib_etablissement_2014  \\\n",
       "count                              450                    450   \n",
       "unique                               4                    103   \n",
       "top     Sciences et leurs interactions           NICE (fermé)   \n",
       "freq                               162                      8   \n",
       "\n",
       "       lib_etablissement_2020  \n",
       "count                     450  \n",
       "unique                     99  \n",
       "top       UNIVERSITE DE LILLE  \n",
       "freq                       16  "
      ]
     },
     "metadata": {},
     "output_type": "display_data"
    }
   ],
   "source": [
    "doctorat.select_dtypes(include='object').describe()"
   ]
  },
  {
   "attachments": {},
   "cell_type": "markdown",
   "metadata": {},
   "source": [
    "Visualisation des variables qualitatives"
   ]
  },
  {
   "cell_type": "code",
   "execution_count": null,
   "metadata": {},
   "outputs": [],
   "source": [
    "for colonne in doctorat.select_dtypes('object'):\n",
    "\tprint(f'{colonne :-<50} {doctorat[colonne].unique()}')"
   ]
  },
  {
   "cell_type": "code",
   "execution_count": null,
   "metadata": {},
   "outputs": [],
   "source": [
    "for colonne in doctorat.select_dtypes('object'):\n",
    "\tplt.figure()\n",
    "\tdoctorat[colonne].value_counts().plot.pie()"
   ]
  },
  {
   "attachments": {},
   "cell_type": "markdown",
   "metadata": {},
   "source": [
    "Création de sous-ensembles"
   ]
  },
  {
   "cell_type": "code",
   "execution_count": 53,
   "metadata": {},
   "outputs": [],
   "source": [
    "# ensemble des docteurs ayant choisi un métier dans le domaine des ...\n",
    "sciences_interactions = doctorat[doctorat['disca'] == 'Sciences et leurs interactions']\n",
    "sciences_vivant = doctorat[doctorat['disca'] == 'Sciences du vivant']\n",
    "sciences_humanite = doctorat[doctorat['disca'] == 'Sciences humaines et humanités']\n",
    "sciences_societe = doctorat[doctorat['disca'] == 'Sciences de la société']\n",
    "\n",
    "# ensemble des résultats obtenus 1 ou 3 an(s) après obtention du doctorat\n",
    "situation_1 = doctorat[doctorat['situation'] == '12 mois après le diplôme']\n",
    "situation_3 = doctorat[doctorat['situation'] == '36 mois après le diplôme']\n",
    "\n",
    "# ensemble de la nature des réponses ...\n",
    "reponses_peu_fiables = doctorat[doctorat['situation'] == \"Etablissement ayant participé à  l'enquéte mais dont l'effectif ou le taux de réponse est trop petit pour que les résultats soient jugés statistiquement fiables\"]\n",
    "reponses_peu_exploitables = doctorat[doctorat['situation'] == \"Etablissement ayant participé à  l'enquéte mais dont l'effectif est trop petit pour que les résultats soient jugés exploitables ou respectant le secret statistique\"]"
   ]
  },
  {
   "attachments": {},
   "cell_type": "markdown",
   "metadata": {},
   "source": [
    "Matrice de corrélation entre les variables quantitatives"
   ]
  },
  {
   "cell_type": "code",
   "execution_count": null,
   "metadata": {},
   "outputs": [],
   "source": [
    "sns.heatmap(doctorat[doctorat.select_dtypes('number').columns].corr())"
   ]
  },
  {
   "attachments": {},
   "cell_type": "markdown",
   "metadata": {},
   "source": [
    "Le taux d'insertion professionnelle après 1 an"
   ]
  },
  {
   "cell_type": "code",
   "execution_count": 119,
   "metadata": {},
   "outputs": [
    {
     "data": {
      "text/plain": [
       "[<matplotlib.lines.Line2D at 0x217abc40190>]"
      ]
     },
     "execution_count": 119,
     "metadata": {},
     "output_type": "execute_result"
    },
    {
     "data": {
      "image/png": "[encoded data removed]",
      "text/plain": [
       "<Figure size 640x480 with 1 Axes>"
      ]
     },
     "metadata": {},
     "output_type": "display_data"
    }
   ],
   "source": [
    "situation_1['taux_insertion'].value_counts().sort_index()"
   ]
  },
  {
   "attachments": {},
   "cell_type": "markdown",
   "metadata": {},
   "source": [
    "Le taux d'insertion professionnelle après 3 ans"
   ]
  },
  {
   "cell_type": "code",
   "execution_count": 118,
   "metadata": {},
   "outputs": [
    {
     "data": {
      "text/plain": [
       "74.0      2\n",
       "77.0      2\n",
       "78.0      4\n",
       "79.0      1\n",
       "80.0      2\n",
       "81.0      4\n",
       "82.0      4\n",
       "83.0      3\n",
       "84.0      6\n",
       "85.0      7\n",
       "86.0      2\n",
       "87.0      5\n",
       "88.0      4\n",
       "89.0      7\n",
       "90.0      6\n",
       "91.0      8\n",
       "92.0      7\n",
       "93.0     11\n",
       "94.0      7\n",
       "95.0      7\n",
       "96.0      3\n",
       "97.0      8\n",
       "98.0      2\n",
       "100.0    13\n",
       "Name: taux_insertion, dtype: int64"
      ]
     },
     "execution_count": 118,
     "metadata": {},
     "output_type": "execute_result"
    }
   ],
   "source": [
    "situation_3['taux_insertion'].value_counts().sort_index()"
   ]
  },
  {
   "cell_type": "code",
   "execution_count": 127,
   "metadata": {},
   "outputs": [
    {
     "data": {
      "text/plain": [
       "<matplotlib.legend.Legend at 0x217b0bff110>"
      ]
     },
     "execution_count": 127,
     "metadata": {},
     "output_type": "execute_result"
    },
    {
     "data": {
      "image/png": "[encoded data removed]",
      "text/plain": [
       "<Figure size 640x480 with 1 Axes>"
      ]
     },
     "metadata": {},
     "output_type": "display_data"
    }
   ],
   "source": [
    "plt.figure()\n",
    "plt.grid()\n",
    "plt.plot(situation_1['taux_insertion'].value_counts().sort_index(), c='r', label='après 1 an')\n",
    "plt.plot(situation_3['taux_insertion'].value_counts().sort_index(), label='après 3 ans')\n",
    "plt.xlabel(\"Taux d'insertion professionnelle\")\n",
    "plt.ylabel(\"Nombre d'établissements\")\n",
    "plt.legend()\n",
    "plt.show()"
   ]
  },
  {
   "cell_type": "code",
   "execution_count": null,
   "metadata": {},
   "outputs": [],
   "source": [
    "plt.figure(figsize=(20,10))\n",
    "sns.countplot(data=doctorat, x='disca', hue='remarque')"
   ]
  },
  {
   "attachments": {},
   "cell_type": "markdown",
   "metadata": {},
   "source": [
    "Les établissements avec les meilleurs taux d'insertion professionnelle de docteurs après 1 an"
   ]
  },
  {
   "cell_type": "code",
   "execution_count": null,
   "metadata": {},
   "outputs": [],
   "source": [
    "plt.figure(figsize=(20,20))\n",
    "plt.barh(situation_1['lib_etablissement_2014'], situation_1['taux_insertion'].sort_values())"
   ]
  },
  {
   "attachments": {},
   "cell_type": "markdown",
   "metadata": {},
   "source": [
    "Les établissements avec les meilleurs taux d'insertion professionnelle de docteurs après 3 ans"
   ]
  },
  {
   "cell_type": "code",
   "execution_count": null,
   "metadata": {},
   "outputs": [],
   "source": [
    "plt.figure(figsize=(20,20))\n",
    "plt.barh(situation_3['lib_etablissement_2014'], situation_3['taux_insertion'].sort_values())"
   ]
  }
 ],
 "metadata": {
  "kernelspec": {
   "display_name": "Python 3",
   "language": "python",
   "name": "python3"
  },
  "language_info": {
   "codemirror_mode": {
    "name": "ipython",
    "version": 3
   },
   "file_extension": ".py",
   "mimetype": "text/x-python",
   "name": "python",
   "nbconvert_exporter": "python",
   "pygments_lexer": "ipython3",
   "version": "3.11.2"
  },
  "orig_nbformat": 4,
  "vscode": {
   "interpreter": {
    "hash": "984f0d32ec04950e2fefa43e7d38885b8e5f7ace114fa5bde7896afdbe1d6c9f"
   }
  }
 },
 "nbformat": 4,
 "nbformat_minor": 2
}
